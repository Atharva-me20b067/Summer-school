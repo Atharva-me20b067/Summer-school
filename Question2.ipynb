{
 "cells": [
  {
   "cell_type": "code",
   "execution_count": 10,
   "metadata": {},
   "outputs": [
    {
     "name": "stdout",
     "output_type": "stream",
     "text": [
      "numbers = 10 20 10 40 50 60 70\n",
      "Target = 50\n",
      "{1: [0, 3], 2: [2, 3], 3: [3, 0], 4: [3, 2]}\n"
     ]
    }
   ],
   "source": [
    "arr = []\n",
    "x = input(\"numbers = \")#enter numbers with space between them\n",
    "for i in x.split():\n",
    "    arr.append(int(i))\n",
    "target = int(input(\"Target = \"))\n",
    "dict={}\n",
    "arr1 = [[j,k] for j in range(len(arr)) \n",
    "        for k in range(len(arr)) \n",
    "        if arr[j]+arr[k]==target]\n",
    "for k in range(len(arr1)):\n",
    "    dict[k+1]=arr1[k]\n",
    "print(dict)    "
   ]
  },
  {
   "cell_type": "code",
   "execution_count": null,
   "metadata": {},
   "outputs": [],
   "source": []
  },
  {
   "cell_type": "code",
   "execution_count": null,
   "metadata": {},
   "outputs": [],
   "source": []
  }
 ],
 "metadata": {
  "kernelspec": {
   "display_name": "Python 3",
   "language": "python",
   "name": "python3"
  },
  "language_info": {
   "codemirror_mode": {
    "name": "ipython",
    "version": 3
   },
   "file_extension": ".py",
   "mimetype": "text/x-python",
   "name": "python",
   "nbconvert_exporter": "python",
   "pygments_lexer": "ipython3",
   "version": "3.8.3"
  }
 },
 "nbformat": 4,
 "nbformat_minor": 4
}
