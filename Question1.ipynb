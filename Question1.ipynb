{
 "cells": [
  {
   "cell_type": "code",
   "execution_count": 9,
   "metadata": {},
   "outputs": [
    {
     "name": "stdout",
     "output_type": "stream",
     "text": [
      "1.1551775500155217\n"
     ]
    }
   ],
   "source": [
    "from numpy import random\n",
    "\n",
    "import numpy as np\n",
    "y_cap = np.random.rand(100)\n",
    "y = np.random.randint(2,size = 100)\n",
    "y1 = np.log2(y_cap)\n",
    "y2 = np.log2(1-y_cap)\n",
    "O = (-1/100)*((y*y1) + (1-y)*y2)\n",
    "print(O.sum())"
   ]
  },
  {
   "cell_type": "code",
   "execution_count": null,
   "metadata": {},
   "outputs": [],
   "source": []
  },
  {
   "cell_type": "code",
   "execution_count": null,
   "metadata": {},
   "outputs": [],
   "source": []
  }
 ],
 "metadata": {
  "kernelspec": {
   "display_name": "Python 3",
   "language": "python",
   "name": "python3"
  },
  "language_info": {
   "codemirror_mode": {
    "name": "ipython",
    "version": 3
   },
   "file_extension": ".py",
   "mimetype": "text/x-python",
   "name": "python",
   "nbconvert_exporter": "python",
   "pygments_lexer": "ipython3",
   "version": "3.8.3"
  }
 },
 "nbformat": 4,
 "nbformat_minor": 4
}
